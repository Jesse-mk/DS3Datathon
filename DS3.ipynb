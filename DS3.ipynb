{
 "cells": [
  {
   "cell_type": "code",
   "execution_count": 1,
   "metadata": {},
   "outputs": [],
   "source": [
    "import numpy as np\n",
    "from collections import defaultdict\n",
    "import nltk \n",
    "import pandas as pd\n",
    "import os \n",
    "import json\n",
    "import io\n",
    "import gzip"
   ]
  },
  {
   "cell_type": "markdown",
   "metadata": {},
   "source": [
    "The code shown below is from "
   ]
  },
  {
   "cell_type": "code",
   "execution_count": 14,
   "metadata": {},
   "outputs": [],
   "source": [
    "# read in a gz file\n",
    "def readGz(fname):\n",
    "    gz = gzip.open(fname, 'rb')\n",
    "    f = io.BufferedReader(gz)\n",
    "    data = []\n",
    "    rows = 0\n",
    "\n",
    "    for l in f.readlines():\n",
    "        rows = rows + 1\n",
    "        data.append(eval(l))\n",
    "        if rows == 10000:\n",
    "            break;\n",
    "        \n",
    "    gz.close()\n",
    "    return data\n",
    "#     for l in gzip.open(f):\n",
    "#         yield eval(l)"
   ]
  },
  {
   "cell_type": "code",
   "execution_count": 15,
   "metadata": {},
   "outputs": [
    {
     "name": "stdout",
     "output_type": "stream",
     "text": [
      "Wall time: 3min 22s\n"
     ]
    }
   ],
   "source": [
    "%%time\n",
    "#parsing in the data, takes time\n",
    "places = readGz(\"places.clean.json.gz\")\n",
    "users = readGz(\"users.clean.json.gz\")\n",
    "reviews = readGz(\"reviews.clean.json.gz\")"
   ]
  },
  {
   "cell_type": "code",
   "execution_count": 16,
   "metadata": {},
   "outputs": [],
   "source": [
    "places = pd.DataFrame(places)\n",
    "users = pd.DataFrame(users)\n",
    "reviews = pd.DataFrame(reviews)"
   ]
  }
 ],
 "metadata": {
  "kernelspec": {
   "display_name": "Python 3",
   "language": "python",
   "name": "python3"
  },
  "language_info": {
   "codemirror_mode": {
    "name": "ipython",
    "version": 3
   },
   "file_extension": ".py",
   "mimetype": "text/x-python",
   "name": "python",
   "nbconvert_exporter": "python",
   "pygments_lexer": "ipython3",
   "version": "3.6.7"
  }
 },
 "nbformat": 4,
 "nbformat_minor": 2
}
